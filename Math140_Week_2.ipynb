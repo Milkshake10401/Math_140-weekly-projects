{
  "nbformat": 4,
  "nbformat_minor": 0,
  "metadata": {
    "colab": {
      "name": "Math140_Week#2.ipynb",
      "provenance": [],
      "collapsed_sections": [],
      "include_colab_link": true
    },
    "kernelspec": {
      "name": "python3",
      "display_name": "Python 3"
    },
    "language_info": {
      "name": "python"
    }
  },
  "cells": [
    {
      "cell_type": "markdown",
      "metadata": {
        "id": "view-in-github",
        "colab_type": "text"
      },
      "source": [
        "<a href=\"https://colab.research.google.com/github/Milkshake10401/Math_140-weekly-projects/blob/main/Math140_Week_2.ipynb\" target=\"_parent\"><img src=\"https://colab.research.google.com/assets/colab-badge.svg\" alt=\"Open In Colab\"/></a>"
      ]
    },
    {
      "cell_type": "code",
      "source": [
        "def covariance_matrix(xlist, ylist):\n",
        "  n = (len(xlist))-1\n",
        "  var_x = 0            # variance of x values\n",
        "  var_y = 0            # variance of y values\n",
        "  cov_xy = 0\n",
        "  cov_yx = 0\n",
        "  sigma_x = []\n",
        "  sigma_x_squared = 0\n",
        "  sigma_y = []\n",
        "  sigma_y_squared = 0\n",
        "  x_av = np.sum(xlist) / len(xlist)\n",
        "  print(x_av)\n",
        "  y_av = np.sum(ylist) / len(ylist)\n",
        "\n",
        "  # calculate variance for x and y values\n",
        "\n",
        "  for x in xlist:\n",
        "    sigma_x.append(x - x_av)\n",
        "    sigma_x_squared += (x - x_av) ** 2\n",
        "  var_x = (1/n) * sigma_x_squared\n",
        "  for y in ylist:\n",
        "    sigma_y.append(y - y_av)\n",
        "    sigma_y_squared += (y - y_av) ** 2\n",
        "  print(sigma_x)\n",
        "  var_y = (1/n) * sigma_y_squared\n",
        "\n",
        "  # calculate covariance for (x,y) and (y,x)\n",
        "\n",
        "  for i in range(n+1):\n",
        "    cov_xy += (1/n) * (sigma_x[i] * sigma_y[i])\n",
        "    cov_yx += (1/n) * (sigma_y[i] * sigma_x[i])\n",
        "\n",
        "  print('var(x) = {}'.format(var_x))\n",
        "  print('var(y) = {}'.format(var_y))\n",
        "  print('cov(x,y) = {}'.format(cov_xy))\n",
        "  print('cov(y,x) = {}'.format(cov_yx))"
      ],
      "metadata": {
        "id": "B9HNa2ITvXOF"
      },
      "execution_count": 35,
      "outputs": []
    },
    {
      "cell_type": "code",
      "source": [
        "xlist = [-1,1,0,2]\n",
        "ylist = [-2,3,1,0.5]\n",
        "covariance_matrix(xlist, ylist,)\n",
        "cov_matrix = np.array([[-3.75,-3.5625],\n",
        "                       [-3.5625, -9.515625]])\n",
        "eigenvalues,eigenvectors = np.linalg.eig(cov_matrix)\n",
        "\n",
        "print(\"\\n\", cov_matrix,\"\\n\",\"\\n\",eigenvalues,\"\\n\",\"\\n\", eigenvectors)"
      ],
      "metadata": {
        "id": "5FNPtwrivbVW",
        "colab": {
          "base_uri": "https://localhost:8080/"
        },
        "outputId": "6272fa4e-c8b3-4723-b1dd-07e29c1984a1"
      },
      "execution_count": 36,
      "outputs": [
        {
          "output_type": "stream",
          "name": "stdout",
          "text": [
            "0.5\n",
            "[-1.5, 0.5, -0.5, 1.5]\n",
            "var(x) = 1.6666666666666665\n",
            "var(y) = 4.229166666666666\n",
            "cov(x,y) = 1.5833333333333333\n",
            "cov(y,x) = 1.5833333333333333\n",
            "\n",
            " [[-3.75     -3.5625  ]\n",
            " [-3.5625   -9.515625]] \n",
            " \n",
            " [ -2.05001705 -11.21560795] \n",
            " \n",
            " [[ 0.90251069  0.43066745]\n",
            " [-0.43066745  0.90251069]]\n"
          ]
        }
      ]
    },
    {
      "cell_type": "code",
      "source": [
        "import numpy as np\n",
        "from sklearn.decomposition import PCA\n",
        "X = np.array([[-1, -2], [1, 3], [0, 1], [2, 0.5]])\n",
        "pca = PCA(n_components=2)\n",
        "pca.fit(X)\n",
        "\n",
        "#\n",
        "print(pca.explained_variance_ratio_)\n",
        "print(pca.singular_values_)"
      ],
      "metadata": {
        "id": "uCHaSVQCvmFK",
        "colab": {
          "base_uri": "https://localhost:8080/"
        },
        "outputId": "2167e0d6-7399-4f3b-c6fd-f557d43f205a"
      },
      "execution_count": 37,
      "outputs": [
        {
          "output_type": "stream",
          "name": "stdout",
          "text": [
            "[0.84546397 0.15453603]\n",
            "[3.86705882 1.65328644]\n"
          ]
        }
      ]
    },
    {
      "cell_type": "code",
      "execution_count": 38,
      "metadata": {
        "id": "LgFOTTxHLHYq"
      },
      "outputs": [],
      "source": [
        "import pandas as pd\n",
        "import numpy as np\n",
        "import matplotlib.pyplot as plt"
      ]
    },
    {
      "cell_type": "code",
      "source": [
        "matrix = np.array([[-1,1,0,2],\n",
        "                   [-2,3,1,0.5]])\n",
        "#Normalizing based mean\n",
        "matrix -= matrix.mean(axis=0)\n",
        "#calulating covarience matrix\n",
        "cov_matrix = np.cov(matrix, rowvar=False)\n",
        "#calculating eigenvectors, and eigenvalues\n",
        "eigenvalues,eigenvectors = np.linalg.eig(cov_matrix)\n",
        "\n",
        "#print(\"\\n\", cov_matrix,\"\\n\",\"\\n\",eigenvalues,\"\\n\",\"\\n\", eigenvectors)\n",
        "\n",
        "#sorting eigenvectors based on the eigenvalues\n",
        "sorted_index = np.argsort(eigenvalues)[::-1]\n",
        "sorted_eigenvector = eigenvectors[:,sorted_index]\n",
        "sorted_eigenvalue = eigenvalues[sorted_index]\n",
        "\n",
        "#transform for data plotting\n",
        "new_data = np.dot(sorted_eigenvector.T, matrix.T).T\n",
        "\n",
        "print(new_data)\n",
        "fig = plt.figure()\n",
        "ax1 = fig.add_subplot(111)\n",
        "ax1.plot(new_data[:, 0], new_data[:, 1], '.', mfc='#2026B2', mec='#2026B2')\n",
        "ax1.plot(matrix, matrix, '.', mfc='#2026B2', mec='#2026B2')\n",
        "plt.show()\n",
        "plt.scatter(matrix[0], matrix[1])\n",
        "\n",
        "#percentage_eigen_1 = (0.91111869/(0.91111869 + 4.98471465))*100\n",
        "#percentage_eigen_2 = (4.98471465/(0.91111869 + 4.98471465))*100\n",
        "\n",
        "#print(\"\\n\", percentage_eigen_1, \"\\n\", percentage_eigen_2, )"
      ],
      "metadata": {
        "id": "XtDwkg4lL1_B",
        "colab": {
          "base_uri": "https://localhost:8080/",
          "height": 572
        },
        "outputId": "3be1a347-ffef-471b-a37a-9573e9694e96"
      },
      "execution_count": 39,
      "outputs": [
        {
          "output_type": "stream",
          "name": "stdout",
          "text": [
            "[[-1.43614066e+00 -8.32667268e-17  8.67361738e-17  6.93889390e-18]\n",
            " [ 1.43614066e+00  8.32667268e-17 -8.67361738e-17 -6.93889390e-18]]\n"
          ]
        },
        {
          "output_type": "display_data",
          "data": {
            "text/plain": [
              "<Figure size 432x288 with 1 Axes>"
            ],
            "image/png": "[encoded data removed]"
          },
          "metadata": {}
        },
        {
          "output_type": "execute_result",
          "data": {
            "text/plain": [
              "<matplotlib.collections.PathCollection at 0x7f8f879f3090>"
            ]
          },
          "metadata": {},
          "execution_count": 39
        },
        {
          "output_type": "display_data",
          "data": {
            "text/plain": [
              "<Figure size 432x288 with 1 Axes>"
            ],
            "image/png": "[encoded data removed]"
          },
          "metadata": {}
        }
      ]
    },
    {
      "cell_type": "code",
      "source": [
        "import numpy as np\n",
        "import seaborn as sn\n",
        "import matplotlib.pyplot as plt\n",
        "#from pylab import savefig\n",
        "from google.colab import files\n",
        "\n",
        "A = [-1,1,0,2]\n",
        "B = [-2,3,1,0.5]\n",
        "\n",
        "data = np.array([A,B])\n",
        "\n",
        "covMatrix = np.cov(data,bias=False) # bias = False means 1/n-1, True means 1/n\n",
        "fig = sn.heatmap(covMatrix, annot=True, fmt='g')\n",
        "plt.show()\n",
        "fig.figure.savefig(\"heatmap.png\")\n",
        "files.download('heatmap.png')"
      ],
      "metadata": {
        "colab": {
          "base_uri": "https://localhost:8080/",
          "height": 265
        },
        "id": "djoAz_w3b8ax",
        "outputId": "24c4b303-82f9-4a99-f466-a66870e2c377"
      },
      "execution_count": null,
      "outputs": [
        {
          "output_type": "display_data",
          "data": {
            "text/plain": [
              "<Figure size 432x288 with 2 Axes>"
            ],
            "image/png": "[encoded data removed]"
          },
          "metadata": {
            "needs_background": "light"
          }
        },
        {
          "output_type": "display_data",
          "data": {
            "text/plain": [
              "<IPython.core.display.Javascript object>"
            ],
            "application/javascript": [
              "\n",
              "    async function download(id, filename, size) {\n",
              "      if (!google.colab.kernel.accessAllowed) {\n",
              "        return;\n",
              "      }\n",
              "      const div = document.createElement('div');\n",
              "      const label = document.createElement('label');\n",
              "      label.textContent = `Downloading \"${filename}\": `;\n",
              "      div.appendChild(label);\n",
              "      const progress = document.createElement('progress');\n",
              "      progress.max = size;\n",
              "      div.appendChild(progress);\n",
              "      document.body.appendChild(div);\n",
              "\n",
              "      const buffers = [];\n",
              "      let downloaded = 0;\n",
              "\n",
              "      const channel = await google.colab.kernel.comms.open(id);\n",
              "      // Send a message to notify the kernel that we're ready.\n",
              "      channel.send({})\n",
              "\n",
              "      for await (const message of channel.messages) {\n",
              "        // Send a message to notify the kernel that we're ready.\n",
              "        channel.send({})\n",
              "        if (message.buffers) {\n",
              "          for (const buffer of message.buffers) {\n",
              "            buffers.push(buffer);\n",
              "            downloaded += buffer.byteLength;\n",
              "            progress.value = downloaded;\n",
              "          }\n",
              "        }\n",
              "      }\n",
              "      const blob = new Blob(buffers, {type: 'application/binary'});\n",
              "      const a = document.createElement('a');\n",
              "      a.href = window.URL.createObjectURL(blob);\n",
              "      a.download = filename;\n",
              "      div.appendChild(a);\n",
              "      a.click();\n",
              "      div.remove();\n",
              "    }\n",
              "  "
            ]
          },
          "metadata": {}
        },
        {
          "output_type": "display_data",
          "data": {
            "text/plain": [
              "<IPython.core.display.Javascript object>"
            ],
            "application/javascript": [
              "download(\"download_910563da-a078-4f24-8fd8-787a6dbf206c\", \"heatmap.png\", 8268)"
            ]
          },
          "metadata": {}
        }
      ]
    },
    {
      "cell_type": "code",
      "source": [
        "import numpy as np\n",
        "import matplotlib\n",
        "import matplotlib.pyplot as plt\n",
        "\n",
        "#Make a random array and then make it positive-definite\n",
        "num_vars = 6\n",
        "num_obs = 9\n",
        "A = \n",
        "A = np.asmatrix(A.T) * np.asmatrix(A)\n",
        "U, S, V = np.linalg.svd(A) \n",
        "eigvals = S**2 / np.sum(S**2)  # NOTE (@amoeba): These are not PCA eigenvalues. \n",
        "                               # This question is about SVD.\n",
        "\n",
        "fig = plt.figure(figsize=(8,5))\n",
        "sing_vals = np.arange(num_vars) + 1\n",
        "plt.plot(sing_vals, eigvals, 'ro-', linewidth=2)\n",
        "plt.title('Scree Plot')\n",
        "plt.xlabel('Principal Component')\n",
        "plt.ylabel('Eigenvalue')\n",
        "\n",
        "leg = plt.legend(['Eigenvalues from SVD'], loc='best', borderpad=0.3, \n",
        "                 shadow=False, prop=matplotlib.font_manager.FontProperties(size='small'),\n",
        "                 markerscale=0.4)\n",
        "leg.get_frame().set_alpha(0.4)\n",
        "leg.draggable(state=True)\n",
        "plt.show()"
      ],
      "metadata": {
        "id": "gEruKnY6QkUh",
        "colab": {
          "base_uri": "https://localhost:8080/",
          "height": 133
        },
        "outputId": "bc6999dc-c2fd-4ee5-9aeb-2324d21802af"
      },
      "execution_count": 42,
      "outputs": [
        {
          "output_type": "error",
          "ename": "SyntaxError",
          "evalue": "ignored",
          "traceback": [
            "\u001b[0;36m  File \u001b[0;32m\"<ipython-input-42-49d338e116dc>\"\u001b[0;36m, line \u001b[0;32m8\u001b[0m\n\u001b[0;31m    A =\u001b[0m\n\u001b[0m        ^\u001b[0m\n\u001b[0;31mSyntaxError\u001b[0m\u001b[0;31m:\u001b[0m invalid syntax\n"
          ]
        }
      ]
    },
    {
      "cell_type": "markdown",
      "source": [
        "## This is the code for inserting images in Latex:\n",
        "\n",
        "\\includegraphics[width=0.6\\textwidth]{heatmap}"
      ],
      "metadata": {
        "id": "iOo-TFJc08xW"
      }
    },
    {
      "cell_type": "code",
      "source": [
        "from numpy import linalg as LA"
      ],
      "metadata": {
        "id": "E6obz1SHACQB"
      },
      "execution_count": 44,
      "outputs": []
    },
    {
      "cell_type": "code",
      "source": [
        "matrix = np.array([[-1,1,0,2],\n",
        "                   [-2,3,1,0.5]])\n",
        "\n",
        "cov_matrix = np.cov(matrix)\n",
        "\n",
        "eigen_values, eigen_vectors = LA.eig(cov_matrix)\n",
        "\n",
        "percentage_eigen_1 = (0.91111869/(0.91111869 + 4.98471465))*100\n",
        "percentage_eigen_2 = (4.98471465/(0.91111869 + 4.98471465))*100\n",
        "\n",
        "print(cov_matrix,\"\\n\\n\",eigen_values,\"\\n\\n\",eigen_vectors,\"\\n\" )\n",
        "print(\"\\n\", percentage_eigen_1, \"\\n\", percentage_eigen_2, )"
      ],
      "metadata": {
        "id": "0qfWzIMWn42M",
        "colab": {
          "base_uri": "https://localhost:8080/"
        },
        "outputId": "bca0873e-4669-4ed3-b84f-9c192a7541fa"
      },
      "execution_count": 49,
      "outputs": [
        {
          "output_type": "stream",
          "name": "stdout",
          "text": [
            "[[1.66666667 1.58333333]\n",
            " [1.58333333 4.22916667]] \n",
            "\n",
            " [0.91111869 4.98471465] \n",
            "\n",
            " [[-0.90251069 -0.43066745]\n",
            " [ 0.43066745 -0.90251069]] \n",
            "\n",
            "\n",
            " 15.453603205140801 \n",
            " 84.54639679485919\n"
          ]
        }
      ]
    }
  ]
}